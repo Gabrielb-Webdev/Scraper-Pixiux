{
 "cells": [
  {
   "cell_type": "code",
   "execution_count": null,
   "metadata": {},
   "outputs": [],
   "source": [
    "from selenium import webdriver\n",
    "from selenium.webdriver.chrome.service import Service\n",
    "from selenium.webdriver.chrome.options import Options\n",
    "from selenium.webdriver.common.by import By\n",
    "from selenium.webdriver.support.ui import WebDriverWait\n",
    "from selenium.webdriver.support import expected_conditions as EC\n",
    "import time\n",
    "\n",
    "# Configurar opciones de Chrome\n",
    "chrome_options = Options()\n",
    "chrome_options.add_argument(\"--start-maximized\")  # Abrir el navegador en pantalla completa\n",
    "\n",
    "# Conectar al navegador existente\n",
    "driver = webdriver.Chrome(options=chrome_options)\n",
    "\n",
    "try:\n",
    "    # Navegar a LinkedIn\n",
    "    driver.get(\"https://www.linkedin.com/posts/davorbomestar_how-to-scale-seo-content-without-sacrificing-activity-7211674528668651520-tbKI/?utm_source=share&utm_medium=member_desktop\")\n",
    "\n",
    "    # Esperar hasta que el botón esté presente y visible\n",
    "    button_xpath = \"/html/body/div[3]/div/div/section/button\"\n",
    "    button = WebDriverWait(driver, 20).until(\n",
    "        EC.element_to_be_clickable((By.XPATH, button_xpath))\n",
    "    )\n",
    "\n",
    "    # Hacer clic en el botón\n",
    "    button.click()\n",
    "\n",
    "    # Esperar hasta que el div con el UL esté presente\n",
    "    ul_div_xpath = \"/html/body/div/div/div/div[5]/div[2]\"\n",
    "    try:\n",
    "        ul_div = WebDriverWait(driver, 20).until(\n",
    "            EC.presence_of_element_located((By.XPATH, ul_div_xpath))\n",
    "        )\n",
    "        print(\"Se encontró el div con el UL dentro.\")\n",
    "        # Puedes continuar manipulando el elemento ul_div aquí si lo necesitas\n",
    "    except TimeoutException:\n",
    "        print(\"No se encontró el div con el UL dentro.\")\n",
    "\n",
    "finally:\n",
    "    # Cerrar el navegador al finalizar\n",
    "    print(\"Proceso completado.\")\n"
   ]
  },
  {
   "cell_type": "code",
   "execution_count": null,
   "metadata": {},
   "outputs": [],
   "source": [
    "# Encontrar el elemento por XPath\n",
    "xpath = \"/html/body/main/section[1]/div/section[1]/article\"\n",
    "try:\n",
    "    element = WebDriverWait(driver, 10).until(\n",
    "        EC.presence_of_element_located((By.XPATH, xpath))\n",
    "    )\n",
    "\n",
    "    # Encontrar todas las imágenes dentro del elemento encontrado\n",
    "    images = element.find_elements(By.TAG_NAME, 'img')\n",
    "\n",
    "    # Listar los atributos 'src' de todas las imágenes\n",
    "    if images:\n",
    "        print(f\"Se encontraron {len(images)} imágenes dentro del elemento con XPath '{xpath}':\")\n",
    "        for img in images:\n",
    "            src = img.get_attribute('src')\n",
    "            print(src)\n",
    "\n",
    "    else:\n",
    "        print(f\"No se encontraron imágenes dentro del elemento con XPath '{xpath}'\")\n",
    "\n",
    "except:\n",
    "    print(f\"No se encontró ningún elemento con XPath '{xpath}'\")\n",
    "\n",
    "finally:\n",
    "# Cerrar el navegador al finalizar\n",
    "    print(\"Proceso completado.\")\n"
   ]
  }
 ],
 "metadata": {
  "kernelspec": {
   "display_name": "Python 3",
   "language": "python",
   "name": "python3"
  },
  "language_info": {
   "codemirror_mode": {
    "name": "ipython",
    "version": 3
   },
   "file_extension": ".py",
   "mimetype": "text/x-python",
   "name": "python",
   "nbconvert_exporter": "python",
   "pygments_lexer": "ipython3",
   "version": "3.12.2"
  }
 },
 "nbformat": 4,
 "nbformat_minor": 2
}
