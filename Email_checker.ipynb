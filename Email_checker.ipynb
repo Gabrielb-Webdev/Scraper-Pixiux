{
 "cells": [
  {
   "cell_type": "code",
   "execution_count": null,
   "metadata": {},
   "outputs": [],
   "source": [
    "import pandas as pd\n",
    "from selenium import webdriver\n",
    "from selenium.webdriver.chrome.options import Options\n",
    "\n",
    "# Configuración de Selenium en modo headless\n",
    "options = Options()\n",
    "options.headless = True\n",
    "driver = webdriver.Chrome(options=options)\n",
    "\n",
    "# Leer el archivo CSV\n",
    "df = pd.read_csv('tu_archivo.csv')\n",
    "\n",
    "# Definir los formatos de correo electrónico\n",
    "def generar_emails(nombre, apellido, dominio):\n",
    "    posibles_emails = [\n",
    "        f\"{nombre}.{apellido}@{dominio}\",\n",
    "        f\"{nombre}{apellido}@{dominio}\",\n",
    "        f\"{nombre[0]}{apellido}@{dominio}\",\n",
    "        f\"{nombre}.{apellido[0]}@{dominio}\",\n",
    "        f\"{nombre}@{dominio}\",\n",
    "        f\"{apellido}@{dominio}\",\n",
    "        f\"{nombre[0]}.{apellido}@{dominio}\",\n",
    "        f\"{nombre}.{apellido}@{dominio}\".lower(),\n",
    "        f\"{nombre}{apellido}@{dominio}\".lower(),\n",
    "        f\"{nombre[0]}{apellido}@{dominio}\".lower(),\n",
    "        f\"{nombre}.{apellido[0]}@{dominio}\".lower(),\n",
    "        f\"{nombre}@{dominio}\".lower(),\n",
    "        f\"{apellido}@{dominio}\".lower(),\n",
    "        f\"{nombre[0]}.{apellido}@{dominio}\".lower(),\n",
    "    ]\n",
    "    return posibles_emails\n",
    "\n",
    "# Crear una columna para los posibles correos electrónicos\n",
    "df['Posibles Emails'] = df.apply(lambda row: generar_emails(row['Nombre'], row['Apellido'], row['Dominio']), axis=1)\n",
    "\n",
    "# Guardar el resultado en un nuevo archivo CSV\n",
    "df.to_csv('archivo_con_emails.csv', index=False)\n",
    "\n",
    "# Cerrar el navegador de Selenium\n",
    "driver.quit()\n",
    "\n",
    "print(\"Archivo CSV generado con posibles correos electrónicos.\")\n"
   ]
  }
 ],
 "metadata": {
  "language_info": {
   "name": "python"
  }
 },
 "nbformat": 4,
 "nbformat_minor": 2
}
